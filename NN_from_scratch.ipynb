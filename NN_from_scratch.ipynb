{
  "nbformat": 4,
  "nbformat_minor": 0,
  "metadata": {
    "colab": {
      "provenance": []
    },
    "kernelspec": {
      "name": "python3",
      "display_name": "Python 3"
    },
    "language_info": {
      "name": "python"
    }
  },
  "cells": [
    {
      "cell_type": "markdown",
      "source": [
        "dc     dc    da2   dz2 <br>\n",
        "---  = --- . --- . --- <br>\n",
        "dw2    da2   dz2   dw2 <br>\n",
        "z2 = a1w2 + b2 <br>\n",
        "a2 = softmax(z2)<br>\n",
        "dz2/dw2 = a1<br>\n",
        "da2/dz2 = softmax derivative(z2)<br>\n",
        "dc/da2  = cost function derivative(a2) = -y/a2<br>\n",
        "w2 = w2- dc/dw2"
      ],
      "metadata": {
        "id": "VDchWT1d5PT6"
      }
    },
    {
      "cell_type": "code",
      "execution_count": 162,
      "metadata": {
        "id": "hLzz7v3qO3Du"
      },
      "outputs": [],
      "source": [
        "import tensorflow as tf\n",
        "from sklearn import datasets\n",
        "import pandas as pd\n",
        "import numpy as np\n",
        "import math\n",
        "from sklearn.model_selection import train_test_split\n",
        "import matplotlib.pyplot as plt\n"
      ]
    },
    {
      "cell_type": "code",
      "source": [
        "iris = datasets.load_iris()\n",
        "train_f, test_f, train_l, test_l = train_test_split(iris['data'], iris['target'], random_state= 42 )"
      ],
      "metadata": {
        "id": "to4rHrFrQHGv"
      },
      "execution_count": 163,
      "outputs": []
    },
    {
      "cell_type": "code",
      "source": [
        "train_f = tf.convert_to_tensor(train_f, dtype=tf.float32)\n",
        "train_l = tf.one_hot(train_l,depth=3, dtype=tf.float32)\n",
        "\n",
        "test_f = tf.convert_to_tensor(test_f, dtype=tf.float32)\n",
        "test_l = tf.one_hot(test_l,depth=3, dtype=tf.float32)\n",
        "\n",
        "display(train_f.shape)\n",
        "display(type(train_f))"
      ],
      "metadata": {
        "colab": {
          "base_uri": "https://localhost:8080/",
          "height": 52
        },
        "id": "Hu58C48fQ2NP",
        "outputId": "e87ea1c1-73b2-4fb7-9b5f-bd957e369f9a"
      },
      "execution_count": 164,
      "outputs": [
        {
          "output_type": "display_data",
          "data": {
            "text/plain": [
              "TensorShape([112, 4])"
            ]
          },
          "metadata": {}
        },
        {
          "output_type": "display_data",
          "data": {
            "text/plain": [
              "tensorflow.python.framework.ops.EagerTensor"
            ]
          },
          "metadata": {}
        }
      ]
    },
    {
      "cell_type": "code",
      "source": [
        "def get_acc(x, y):\n",
        "    acc = 0\n",
        "    s = list(zip(x.numpy(),tf.argmax(y, axis=1).numpy()))\n",
        "    for i in range(len(s)):\n",
        "      if s[i][0]== s[i][1]:\n",
        "        acc +=1\n",
        "    return acc/len(s)*100\n",
        "\n",
        "def sigmoid(s):\n",
        "  return 1/(1 + tf.math.exp(-s))\n",
        "\n",
        "def cross_entropy(pred, real):\n",
        "  '''Usually it would require Jacobian matrix to calculate d(C)/d(a2) * d(a2)/d(z2),\n",
        "  but as per this article explaining te math behind it http://neuralnetworksanddeeplearning.com/chap3.html#introducing_the_cross-entropy_cost_function , we will use that d(C)/d(a2) * d(a2)/d(z2) = a2-y .\n",
        "  then we divide the result (derivative) of each observation to the number of observations, that would linearly decrease the derivative value preventing from gradient expolsion (this is a kinf of regularization).\n",
        "  It has also other benefits, nicel;y explained here:\n",
        "  https://stackoverflow.com/questions/65275522/why-is-softmax-classifier-gradient-divided-by-batch-size-cs231n#:~:text=It's%20because%20you%20are%20averaging,regularization%20(to%20avoid%20overfitting).\n",
        "\n",
        "\n",
        "  '''\n",
        "  n_samples = real.shape[0]\n",
        "  res = pred - real\n",
        "  return res/n_samples\n",
        "  # you can test it without regularization res/n_samples, and will see that w2 becomes really high and w1 really low and we loose it all. all predictions get stuck at 33%\n",
        "  ## I didnt manage to go deeper into the need of this regularization, but it works\n",
        "  ## print('cross entropy',res/n_samples)\n",
        "  # return res\n",
        "\n",
        "def error(pred, real):\n",
        "  '''this calculates the cross-entropy loss.\n",
        "  i had to use some additional functions to make it compatible with temsorflow. returns the Loss for all observations, this is why it is devided by the number of observations.\n",
        "  '''\n",
        "  n_samples = real.shape[0]\n",
        "  k = list(map(list, zip(tf.range(n_samples), tf.argmax(real, axis=1))))\n",
        "  logp = - tf.math.log(tf.gather_nd(pred, indices=np.array(k)))\n",
        "  loss = tf.math.reduce_sum(logp)/n_samples\n",
        "  return loss.numpy()\n",
        "\n",
        "def softmax(s):\n",
        "  ''' Softmax activation function, from each value we substract the maximum probability for this observation , this way it is more normalized and may avoid exploding gradients\n",
        "  '''\n",
        "  return (tf.math.exp(s - np.max(s, axis=1, keepdims=True)))/tf.math.reduce_sum((tf.math.exp(s - np.max(s, axis=1, keepdims=True))), axis=1, keepdims=True)\n",
        "\n",
        "\n",
        "def relu(s):\n",
        "  ''' this is a Relu activation'''\n",
        "  return tf.math.maximum(0.0, s)\n",
        "\n",
        "\n",
        "class TomasNN:\n",
        "  '''thisis the main lerning model. it has only 1 hidden layer.\n",
        "  x -> input data (must be tensor)\n",
        "  y -> target, labels  (must be tensor, and One hot encoded)\n",
        "  neurons -> number of nodes in the hidden layer\n",
        "\n",
        "  '''\n",
        "  def __init__(self, x, y, neurons):\n",
        "    self.act_func = {'sigmoid' : sigmoid, 'softmax' : softmax, 'relu' : relu}\n",
        "    self.x = x\n",
        "    self.y = y\n",
        "    self.neurons = neurons\n",
        "    ip_dim = self.x.shape[1]\n",
        "    op_dim = self.y.shape[1]\n",
        "\n",
        "\n",
        "\n",
        "    self.w1 = tf.random.normal([ip_dim,self.neurons], mean=1.0, stddev= 0.1, dtype=tf.dtypes.float32)\n",
        "    self.b1 = tf.zeros([1,self.neurons], dtype=tf.dtypes.float32)\n",
        "    self.w2 = tf.random.normal([self.neurons, op_dim], mean=1.0, stddev= 0.1, dtype=tf.dtypes.float32)\n",
        "    self.b2 = tf.zeros([1,op_dim], dtype=tf.dtypes.float32)\n",
        "\n",
        "\n",
        "\n",
        "  def feedforward(self, l_active = 'relu', op_active = 'softmax'):\n",
        "    '''we can choose between 3 acivation functions: relu , sigmoid, softmax\n",
        "    l_active -> activation function for the hidden layer  (default = relu)\n",
        "    op_active -> activation function for teh output layer (default = softmax)\n",
        "\n",
        "    '''\n",
        "    self.l_active = self.act_func[l_active]\n",
        "    self.op_active = self.act_func[op_active]\n",
        "\n",
        "    self.z1 = tf.matmul(self.x, self.w1) + self.b1\n",
        "    self.a1 = self.l_active(self.z1)\n",
        "    self.a1 = tf.convert_to_tensor(self.a1, dtype=tf.float32)\n",
        "\n",
        "\n",
        "    self.z2 = tf.matmul(self.a1, self.w2) + self.b2\n",
        "    self.a2 = self.op_active(self.z2)\n",
        "    self.a2 = tf.convert_to_tensor(self.a2, dtype=tf.float32)\n",
        "\n",
        "    # self.loss = error(self.a2, self.y)\n",
        "\n",
        "  def backprop(self, lr=0.1):\n",
        "    '''\n",
        "    all of the parameters here could be called after the training for monitoring purposses\n",
        "    lr -> learning rate (default = 0.1)\n",
        "    '''\n",
        "    self.loss = error(self.a2, self.y)\n",
        "\n",
        "    # print('Error: ', self.loss)\n",
        "\n",
        "    self.delta_a2 = cross_entropy(self.a2, self.y)\n",
        "    self.delta_w2 = tf.tensordot(tf.transpose(self.a1),self.delta_a2,axes=1)\n",
        "    self.delta_b2 = tf.math.reduce_sum(self.delta_a2)\n",
        "\n",
        "    with tf.GradientTape() as g:\n",
        "\n",
        "        g.watch(self.z1)\n",
        "        self.delta_z1 = tf.tensordot(self.delta_a2,tf.transpose(self.w2),axes=1)\n",
        "        self.delta_a1 = self.delta_z1*g.gradient(self.l_active(self.z1), self.z1)\n",
        "        self.delta_w1 = tf.tensordot(tf.transpose(self.x),self.delta_a1,axes=1)\n",
        "\n",
        "    with tf.GradientTape() as gg:\n",
        "        gg.watch(self.z1)\n",
        "        self.delta_b1 = tf.math.reduce_sum(self.delta_a1)\n",
        "\n",
        "\n",
        "\n",
        "    self.w2 = self.w2 - lr*self.delta_w2\n",
        "    self.b2 = self.b2 - lr*self.delta_b2\n",
        "    self.w1 = self.w1 - lr*self.delta_w1\n",
        "    self.b1 = self.b1 - lr*self.delta_b1\n",
        "\n",
        "    return self.loss\n",
        "\n",
        "  def predict(self, data):\n",
        "    ''' this prediction function replaces the input from teh previos call of the model\n",
        "    '''\n",
        "    self.x = data\n",
        "    self.feedforward()\n",
        "    return tf.argmax(self.a2, axis=1)\n"
      ],
      "metadata": {
        "id": "aFnp5xzVScFJ"
      },
      "execution_count": 165,
      "outputs": []
    },
    {
      "cell_type": "code",
      "source": [
        "model = TomasNN(x = train_f,y = train_l, neurons = 6)\n",
        "loss_to_plot = []"
      ],
      "metadata": {
        "id": "bhLUJ9DlFZGg"
      },
      "execution_count": 166,
      "outputs": []
    },
    {
      "cell_type": "code",
      "source": [
        "for i in range(300):\n",
        "  model.feedforward()\n",
        "  loss_to_plot.append(model.backprop(lr = 0.1))"
      ],
      "metadata": {
        "id": "1TFXI2Bup_Dc"
      },
      "execution_count": 167,
      "outputs": []
    },
    {
      "cell_type": "code",
      "source": [
        "predicted = model.predict(test_f)"
      ],
      "metadata": {
        "id": "4SqEQUo8WgSs"
      },
      "execution_count": 168,
      "outputs": []
    },
    {
      "cell_type": "code",
      "source": [
        "plt.plot(loss_to_plot)\n",
        "plt.xlabel(xlabel = 'epoch')\n",
        "plt.ylabel(ylabel = 'Loss')\n",
        "plt.show()"
      ],
      "metadata": {
        "colab": {
          "base_uri": "https://localhost:8080/",
          "height": 449
        },
        "id": "FR9kp81jg761",
        "outputId": "563100e3-67e9-4192-84a9-5c077da9e2c8"
      },
      "execution_count": 169,
      "outputs": [
        {
          "output_type": "display_data",
          "data": {
            "text/plain": [
              "<Figure size 640x480 with 1 Axes>"
            ],
            "image/png": "[encoded data removed]"
          },
          "metadata": {}
        }
      ]
    },
    {
      "cell_type": "code",
      "source": [
        "print(f'Accuracy:{get_acc(predicted,test_l):.2f}%')\n",
        "\n"
      ],
      "metadata": {
        "colab": {
          "base_uri": "https://localhost:8080/"
        },
        "id": "iIr1hNCLiE58",
        "outputId": "23e3627a-1b04-4080-c7c7-14c13e35ddfd"
      },
      "execution_count": 170,
      "outputs": [
        {
          "output_type": "stream",
          "name": "stdout",
          "text": [
            "Accuracy:89.47%\n"
          ]
        }
      ]
    }
  ]
}